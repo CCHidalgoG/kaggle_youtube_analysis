{
 "cells": [
  {
   "metadata": {},
   "cell_type": "markdown",
   "source": "# Modelo de predicción de likes",
   "id": "6b0aee93e99ad9c3"
  },
  {
   "metadata": {
    "ExecuteTime": {
     "end_time": "2024-12-04T15:58:28.542635Z",
     "start_time": "2024-12-04T15:58:20.102786Z"
    }
   },
   "cell_type": "code",
   "source": [
    "import pandas as pd\n",
    "\n",
    "\n",
    "from xgboost import XGBRegressor\n",
    "import xgboost as xgb\n",
    "\n",
    "from sklearn.metrics import r2_score, mean_absolute_error\n",
    "from sklearn.model_selection import train_test_split\n",
    "\n",
    "import matplotlib.pyplot as plt"
   ],
   "id": "9034b0e0a192287",
   "outputs": [],
   "execution_count": 1
  },
  {
   "metadata": {
    "ExecuteTime": {
     "end_time": "2024-12-04T15:58:28.758956Z",
     "start_time": "2024-12-04T15:58:28.542635Z"
    }
   },
   "cell_type": "code",
   "source": "df = pd.read_csv('youtube-new/USvideos_last.csv')",
   "id": "22f05243a5f80480",
   "outputs": [],
   "execution_count": 2
  },
  {
   "metadata": {},
   "cell_type": "markdown",
   "source": "Variables que no dependen de una estimación previa serán utilizadas para estimar el número de likes de un video.",
   "id": "d70c10f6da7e36d8"
  },
  {
   "metadata": {},
   "cell_type": "markdown",
   "source": "Antes de proceder a eliminar estas columnas, usaremos un promedio agrupado por channel_title, category_id como base de likes, dislikes, views y comment_count.",
   "id": "130176c18648f962"
  },
  {
   "metadata": {
    "ExecuteTime": {
     "end_time": "2024-12-04T15:58:29.529707Z",
     "start_time": "2024-12-04T15:58:29.416903Z"
    }
   },
   "cell_type": "code",
   "source": [
    "# Promedio\n",
    "df['mean_likes'] = df.groupby(['channel_title', 'category_id'])['likes'].transform('mean')\n",
    "df['mean_dislikes'] = df.groupby(['channel_title', 'category_id'])['dislikes'].transform('mean')\n",
    "df['mean_views'] = df.groupby(['channel_title', 'category_id'])['views'].transform('mean')\n",
    "df['mean_comment_count'] = df.groupby(['channel_title', 'category_id'])['comment_count'].transform('mean')\n",
    "# Variación, si es NA entonces se reemplaza por 0\n",
    "df['std_likes'] = df.groupby(['channel_title', 'category_id'])['likes'].transform('std').fillna(0)\n",
    "df['std_dislikes'] = df.groupby(['channel_title', 'category_id'])['dislikes'].transform('std').fillna(0)\n",
    "df['std_views'] = df.groupby(['channel_title', 'category_id'])['views'].transform('std').fillna(0)\n",
    "df['std_comment_count'] = df.groupby(['channel_title', 'category_id'])['comment_count'].transform('std').fillna(0)\n",
    "# Mediana\n",
    "df['median_likes'] = df.groupby(['channel_title', 'category_id'])['likes'].transform('median')\n",
    "df['median_dislikes'] = df.groupby(['channel_title', 'category_id'])['dislikes'].transform('median')\n",
    "df['median_views'] = df.groupby(['channel_title', 'category_id'])['views'].transform('median')\n",
    "df['median_comment_count'] = df.groupby(['channel_title', 'category_id'])['comment_count'].transform('median')\n",
    "# Mínimo\n",
    "df['min_likes'] = df.groupby(['channel_title', 'category_id'])['likes'].transform('min')\n",
    "df['min_dislikes'] = df.groupby(['channel_title', 'category_id'])['dislikes'].transform('min')\n",
    "df['min_views'] = df.groupby(['channel_title', 'category_id'])['views'].transform('min')\n",
    "df['min_comment_count'] = df.groupby(['channel_title', 'category_id'])['comment_count'].transform('min')\n",
    "# Máximo\n",
    "df['max_likes'] = df.groupby(['channel_title', 'category_id'])['likes'].transform('max')\n",
    "df['max_dislikes'] = df.groupby(['channel_title', 'category_id'])['dislikes'].transform('max')\n",
    "df['max_views'] = df.groupby(['channel_title', 'category_id'])['views'].transform('max')\n",
    "df['max_comment_count'] = df.groupby(['channel_title', 'category_id'])['comment_count'].transform('max')"
   ],
   "id": "3be321c6e268454d",
   "outputs": [],
   "execution_count": 3
  },
  {
   "metadata": {
    "ExecuteTime": {
     "end_time": "2024-12-04T15:58:29.585414Z",
     "start_time": "2024-12-04T15:58:29.553271Z"
    }
   },
   "cell_type": "code",
   "source": [
    "cols_to_exclude = ['trending_date', 'category_id', 'title', 'channel_title', 'publish_time', 'publish_time_', 'publish_date','tags', 'views', 'dislikes', 'comment_count', \n",
    "                   'thumbnail_link', 'video_error_or_removed', 'description', 'dislike_percentage', 'log_views', 'log_likes',\n",
    "                   'log_dislikes', 'log_comment_count', 'ratio_likes', 'ratio_dislikes', 'ratio_comments', 'ratio_likes_dislikes', \n",
    "                   'ratio_likes_comments', 'ratio_dislikes_comments', 'ratio_likes_dislikes_comments', 'ratio_likes_dislikes_views', \n",
    "                   'ratio_likes_comments_views', 'ratio_dislikes_comments_views', 'ratio_likes_dislikes_comments_views', 'time_to_trend']\n",
    "\n",
    "df_model = df.copy().drop(cols_to_exclude, axis=1)"
   ],
   "id": "9f64bed7b878c32f",
   "outputs": [],
   "execution_count": 4
  },
  {
   "metadata": {},
   "cell_type": "markdown",
   "source": "Creamos un diccionario para codificar las variables categóricas category_name y publish_day.",
   "id": "5ec28059a4dc1255"
  },
  {
   "metadata": {
    "ExecuteTime": {
     "end_time": "2024-12-04T15:58:29.631896Z",
     "start_time": "2024-12-04T15:58:29.618895Z"
    }
   },
   "cell_type": "code",
   "source": [
    "# Assigning to unique values to each category\n",
    "category_name = df_model['category_name'].unique()\n",
    "category_name_dict = dict(zip(category_name, range(len(category_name))))\n",
    "df_model['category_name'] = df_model['category_name'].map(category_name_dict)\n",
    "\n",
    "publish_day = df_model['publish_day'].unique()\n",
    "publish_day_dict = dict(zip(publish_day, range(len(publish_day))))\n",
    "df_model['publish_day'] = df_model['publish_day'].map(publish_day_dict)"
   ],
   "id": "48b65fe9a08261",
   "outputs": [],
   "execution_count": 5
  },
  {
   "metadata": {
    "ExecuteTime": {
     "end_time": "2024-12-04T15:58:29.703878Z",
     "start_time": "2024-12-04T15:58:29.671784Z"
    }
   },
   "cell_type": "code",
   "source": "df_model.head()",
   "id": "783a325cf8cc44b",
   "outputs": [
    {
     "data": {
      "text/plain": [
       "      video_id  likes  comments_disabled  ratings_disabled  category_name  \\\n",
       "0  -0CMnp02rNY   9773              False             False              0   \n",
       "1  -0NYY8cqdiQ   4429              False             False              0   \n",
       "2  -1Hm41N0dUs  41248              False             False              1   \n",
       "3  -1yT-K3c6YI   7734              False             False              2   \n",
       "4  -2RVw2_QyxQ    460              False             False              3   \n",
       "\n",
       "   publish_hour  publish_day  publish_month  count_word  count_word_tags  ...  \\\n",
       "0            13            0              6          11               39  ...   \n",
       "1            14            0              1          10               16  ...   \n",
       "2             7            1              4           8               19  ...   \n",
       "3            18            2             11          10                7  ...   \n",
       "4             2            3             11           5                2  ...   \n",
       "\n",
       "   median_views  median_comment_count  min_likes  min_dislikes  min_views  \\\n",
       "0      883050.0                 694.5       1950            23      94139   \n",
       "1      883050.0                 694.5       1950            23      94139   \n",
       "2     1476212.5                1696.0       1245           177      83425   \n",
       "3      155301.5                 886.5       2732            94      51141   \n",
       "4       82160.0                 118.0        460            27      71089   \n",
       "\n",
       "   min_comment_count  max_likes  max_dislikes  max_views  max_comment_count  \n",
       "0                  0     282075         10433   10523399              21655  \n",
       "1                  0     282075         10433   10523399              21655  \n",
       "2                218     215764         18649    8751813              33795  \n",
       "3                256      24977           212     369565               3109  \n",
       "4                 20        902            73     152916                141  \n",
       "\n",
       "[5 rows x 48 columns]"
      ],
      "text/html": [
       "<div>\n",
       "<style scoped>\n",
       "    .dataframe tbody tr th:only-of-type {\n",
       "        vertical-align: middle;\n",
       "    }\n",
       "\n",
       "    .dataframe tbody tr th {\n",
       "        vertical-align: top;\n",
       "    }\n",
       "\n",
       "    .dataframe thead th {\n",
       "        text-align: right;\n",
       "    }\n",
       "</style>\n",
       "<table border=\"1\" class=\"dataframe\">\n",
       "  <thead>\n",
       "    <tr style=\"text-align: right;\">\n",
       "      <th></th>\n",
       "      <th>video_id</th>\n",
       "      <th>likes</th>\n",
       "      <th>comments_disabled</th>\n",
       "      <th>ratings_disabled</th>\n",
       "      <th>category_name</th>\n",
       "      <th>publish_hour</th>\n",
       "      <th>publish_day</th>\n",
       "      <th>publish_month</th>\n",
       "      <th>count_word</th>\n",
       "      <th>count_word_tags</th>\n",
       "      <th>...</th>\n",
       "      <th>median_views</th>\n",
       "      <th>median_comment_count</th>\n",
       "      <th>min_likes</th>\n",
       "      <th>min_dislikes</th>\n",
       "      <th>min_views</th>\n",
       "      <th>min_comment_count</th>\n",
       "      <th>max_likes</th>\n",
       "      <th>max_dislikes</th>\n",
       "      <th>max_views</th>\n",
       "      <th>max_comment_count</th>\n",
       "    </tr>\n",
       "  </thead>\n",
       "  <tbody>\n",
       "    <tr>\n",
       "      <th>0</th>\n",
       "      <td>-0CMnp02rNY</td>\n",
       "      <td>9773</td>\n",
       "      <td>False</td>\n",
       "      <td>False</td>\n",
       "      <td>0</td>\n",
       "      <td>13</td>\n",
       "      <td>0</td>\n",
       "      <td>6</td>\n",
       "      <td>11</td>\n",
       "      <td>39</td>\n",
       "      <td>...</td>\n",
       "      <td>883050.0</td>\n",
       "      <td>694.5</td>\n",
       "      <td>1950</td>\n",
       "      <td>23</td>\n",
       "      <td>94139</td>\n",
       "      <td>0</td>\n",
       "      <td>282075</td>\n",
       "      <td>10433</td>\n",
       "      <td>10523399</td>\n",
       "      <td>21655</td>\n",
       "    </tr>\n",
       "    <tr>\n",
       "      <th>1</th>\n",
       "      <td>-0NYY8cqdiQ</td>\n",
       "      <td>4429</td>\n",
       "      <td>False</td>\n",
       "      <td>False</td>\n",
       "      <td>0</td>\n",
       "      <td>14</td>\n",
       "      <td>0</td>\n",
       "      <td>1</td>\n",
       "      <td>10</td>\n",
       "      <td>16</td>\n",
       "      <td>...</td>\n",
       "      <td>883050.0</td>\n",
       "      <td>694.5</td>\n",
       "      <td>1950</td>\n",
       "      <td>23</td>\n",
       "      <td>94139</td>\n",
       "      <td>0</td>\n",
       "      <td>282075</td>\n",
       "      <td>10433</td>\n",
       "      <td>10523399</td>\n",
       "      <td>21655</td>\n",
       "    </tr>\n",
       "    <tr>\n",
       "      <th>2</th>\n",
       "      <td>-1Hm41N0dUs</td>\n",
       "      <td>41248</td>\n",
       "      <td>False</td>\n",
       "      <td>False</td>\n",
       "      <td>1</td>\n",
       "      <td>7</td>\n",
       "      <td>1</td>\n",
       "      <td>4</td>\n",
       "      <td>8</td>\n",
       "      <td>19</td>\n",
       "      <td>...</td>\n",
       "      <td>1476212.5</td>\n",
       "      <td>1696.0</td>\n",
       "      <td>1245</td>\n",
       "      <td>177</td>\n",
       "      <td>83425</td>\n",
       "      <td>218</td>\n",
       "      <td>215764</td>\n",
       "      <td>18649</td>\n",
       "      <td>8751813</td>\n",
       "      <td>33795</td>\n",
       "    </tr>\n",
       "    <tr>\n",
       "      <th>3</th>\n",
       "      <td>-1yT-K3c6YI</td>\n",
       "      <td>7734</td>\n",
       "      <td>False</td>\n",
       "      <td>False</td>\n",
       "      <td>2</td>\n",
       "      <td>18</td>\n",
       "      <td>2</td>\n",
       "      <td>11</td>\n",
       "      <td>10</td>\n",
       "      <td>7</td>\n",
       "      <td>...</td>\n",
       "      <td>155301.5</td>\n",
       "      <td>886.5</td>\n",
       "      <td>2732</td>\n",
       "      <td>94</td>\n",
       "      <td>51141</td>\n",
       "      <td>256</td>\n",
       "      <td>24977</td>\n",
       "      <td>212</td>\n",
       "      <td>369565</td>\n",
       "      <td>3109</td>\n",
       "    </tr>\n",
       "    <tr>\n",
       "      <th>4</th>\n",
       "      <td>-2RVw2_QyxQ</td>\n",
       "      <td>460</td>\n",
       "      <td>False</td>\n",
       "      <td>False</td>\n",
       "      <td>3</td>\n",
       "      <td>2</td>\n",
       "      <td>3</td>\n",
       "      <td>11</td>\n",
       "      <td>5</td>\n",
       "      <td>2</td>\n",
       "      <td>...</td>\n",
       "      <td>82160.0</td>\n",
       "      <td>118.0</td>\n",
       "      <td>460</td>\n",
       "      <td>27</td>\n",
       "      <td>71089</td>\n",
       "      <td>20</td>\n",
       "      <td>902</td>\n",
       "      <td>73</td>\n",
       "      <td>152916</td>\n",
       "      <td>141</td>\n",
       "    </tr>\n",
       "  </tbody>\n",
       "</table>\n",
       "<p>5 rows × 48 columns</p>\n",
       "</div>"
      ]
     },
     "execution_count": 6,
     "metadata": {},
     "output_type": "execute_result"
    }
   ],
   "execution_count": 6
  },
  {
   "metadata": {},
   "cell_type": "markdown",
   "source": "# Modelado",
   "id": "6be3b8b0705014b8"
  },
  {
   "metadata": {},
   "cell_type": "markdown",
   "source": "Usaremos un modelo e xgboost para predecir el número de likes de un video. Luego de entrenar el modelo, se evaluará su desempeño y la importancia de las variables. Basándonos en sus resultados iniciales, se decidirá si se requiere un tuneo de hiperparámetros y usar otros modelos.",
   "id": "1fa5d0e7bfda8af7"
  },
  {
   "metadata": {
    "ExecuteTime": {
     "end_time": "2024-12-04T15:58:29.814586Z",
     "start_time": "2024-12-04T15:58:29.798958Z"
    }
   },
   "cell_type": "code",
   "source": "",
   "id": "2f0afc7e2a835b42",
   "outputs": [],
   "execution_count": null
  },
  {
   "metadata": {
    "ExecuteTime": {
     "end_time": "2024-12-04T15:58:29.967958Z",
     "start_time": "2024-12-04T15:58:29.927283Z"
    }
   },
   "cell_type": "code",
   "source": [
    "# División de datos:\n",
    "# Dividiremos los datos en tres conjuntos: entrenamiento, validación y prueba (70%, 15%, 15%)\n",
    "\n",
    "X = df_model.drop('likes', axis=1).set_index('video_id')\n",
    "y = df_model['likes']\n",
    "\n",
    "X_train, X_test, y_train, y_test = train_test_split(X, y, test_size=0.3, random_state=42)\n",
    "X_val, X_test, y_val, y_test = train_test_split(X_test, y_test, test_size=0.5, random_state=42)"
   ],
   "id": "b5a58fab5c5e21a2",
   "outputs": [],
   "execution_count": 7
  },
  {
   "metadata": {},
   "cell_type": "markdown",
   "source": [
    "## Entrenamiento\n",
    "\n",
    "Entrenaremos el modelo con los datos de entrenamiento usando un evallist para evaluar el desempeño del modelo en los datos de validación. Luego de entrenar el modelo, se evaluará su desempeño en los datos de prueba."
   ],
   "id": "14f3a25114f9b33f"
  },
  {
   "metadata": {
    "ExecuteTime": {
     "end_time": "2024-12-04T15:58:30.118857Z",
     "start_time": "2024-12-04T15:58:30.103776Z"
    }
   },
   "cell_type": "code",
   "source": [
    "# Configuración del modelo\n",
    "model = XGBRegressor(\n",
    "    n_estimators=1000,\n",
    "    learning_rate=0.05,\n",
    "    early_stopping_rounds=50,  # early stopping como parámetro del modelo\n",
    "    eval_metric='rmse'\n",
    ")\n"
   ],
   "id": "ab9fb8b0a64954ee",
   "outputs": [],
   "execution_count": 8
  },
  {
   "metadata": {
    "ExecuteTime": {
     "end_time": "2024-12-04T15:58:31.313958Z",
     "start_time": "2024-12-04T15:58:30.201075Z"
    }
   },
   "cell_type": "code",
   "source": [
    "\n",
    "# Entrenamiento\n",
    "model.fit(\n",
    "    X_train,\n",
    "    y_train,\n",
    "    eval_set=[(X_val, y_val)],\n",
    "    verbose=True\n",
    ")\n",
    "\n",
    "# Para ver el mejor número de iteraciones\n",
    "print(f\"Mejor iteración: {model.best_iteration}\")"
   ],
   "id": "d1ca9ec89de4ad90",
   "outputs": [
    {
     "name": "stdout",
     "output_type": "stream",
     "text": [
      "[0]\tvalidation_0-rmse:237572.09767\n",
      "[1]\tvalidation_0-rmse:233909.58571\n",
      "[2]\tvalidation_0-rmse:230491.32266\n",
      "[3]\tvalidation_0-rmse:227387.61416\n",
      "[4]\tvalidation_0-rmse:224486.50984\n",
      "[5]\tvalidation_0-rmse:220238.34621\n",
      "[6]\tvalidation_0-rmse:216075.58383\n",
      "[7]\tvalidation_0-rmse:212395.94167\n",
      "[8]\tvalidation_0-rmse:208987.13140\n",
      "[9]\tvalidation_0-rmse:205876.40329\n",
      "[10]\tvalidation_0-rmse:202960.90774\n",
      "[11]\tvalidation_0-rmse:201271.21688\n",
      "[12]\tvalidation_0-rmse:197235.24342\n",
      "[13]\tvalidation_0-rmse:195014.57426\n",
      "[14]\tvalidation_0-rmse:191427.12064\n",
      "[15]\tvalidation_0-rmse:189989.18351\n",
      "[16]\tvalidation_0-rmse:186755.59050\n",
      "[17]\tvalidation_0-rmse:185608.12603\n",
      "[18]\tvalidation_0-rmse:182756.10528\n",
      "[19]\tvalidation_0-rmse:181669.24776\n",
      "[20]\tvalidation_0-rmse:180640.35488\n",
      "[21]\tvalidation_0-rmse:179476.97800\n",
      "[22]\tvalidation_0-rmse:176624.30535\n",
      "[23]\tvalidation_0-rmse:174054.29991\n",
      "[24]\tvalidation_0-rmse:171716.25569\n",
      "[25]\tvalidation_0-rmse:169595.31897\n",
      "[26]\tvalidation_0-rmse:167414.42141\n",
      "[27]\tvalidation_0-rmse:165644.39523\n",
      "[28]\tvalidation_0-rmse:163755.75812\n",
      "[29]\tvalidation_0-rmse:162031.85644\n",
      "[30]\tvalidation_0-rmse:160334.38222\n",
      "[31]\tvalidation_0-rmse:158932.91254\n",
      "[32]\tvalidation_0-rmse:157475.49309\n",
      "[33]\tvalidation_0-rmse:155959.20469\n",
      "[34]\tvalidation_0-rmse:154632.97087\n",
      "[35]\tvalidation_0-rmse:153466.73247\n",
      "[36]\tvalidation_0-rmse:151960.06355\n",
      "[37]\tvalidation_0-rmse:150814.98565\n",
      "[38]\tvalidation_0-rmse:149739.35944\n",
      "[39]\tvalidation_0-rmse:148755.18627\n",
      "[40]\tvalidation_0-rmse:147388.24340\n",
      "[41]\tvalidation_0-rmse:146193.06916\n",
      "[42]\tvalidation_0-rmse:145123.37425\n",
      "[43]\tvalidation_0-rmse:144043.82292\n",
      "[44]\tvalidation_0-rmse:142973.58026\n",
      "[45]\tvalidation_0-rmse:141950.37134\n",
      "[46]\tvalidation_0-rmse:141001.21769\n",
      "[47]\tvalidation_0-rmse:140130.53130\n",
      "[48]\tvalidation_0-rmse:140017.23029\n",
      "[49]\tvalidation_0-rmse:139953.94828\n",
      "[50]\tvalidation_0-rmse:140014.08185\n",
      "[51]\tvalidation_0-rmse:140131.83508\n",
      "[52]\tvalidation_0-rmse:140113.89136\n",
      "[53]\tvalidation_0-rmse:140221.83373\n",
      "[54]\tvalidation_0-rmse:140259.87532\n",
      "[55]\tvalidation_0-rmse:140300.38297\n",
      "[56]\tvalidation_0-rmse:140303.70885\n",
      "[57]\tvalidation_0-rmse:140578.96214\n",
      "[58]\tvalidation_0-rmse:140887.69298\n",
      "[59]\tvalidation_0-rmse:140968.07948\n",
      "[60]\tvalidation_0-rmse:141132.13370\n",
      "[61]\tvalidation_0-rmse:141435.05239\n",
      "[62]\tvalidation_0-rmse:141567.68100\n",
      "[63]\tvalidation_0-rmse:141740.71054\n",
      "[64]\tvalidation_0-rmse:141824.70613\n",
      "[65]\tvalidation_0-rmse:141991.26476\n",
      "[66]\tvalidation_0-rmse:142139.66665\n",
      "[67]\tvalidation_0-rmse:142309.42399\n",
      "[68]\tvalidation_0-rmse:142510.62293\n",
      "[69]\tvalidation_0-rmse:142645.70616\n",
      "[70]\tvalidation_0-rmse:142855.21566\n",
      "[71]\tvalidation_0-rmse:143015.76664\n",
      "[72]\tvalidation_0-rmse:143272.71695\n",
      "[73]\tvalidation_0-rmse:143435.73711\n",
      "[74]\tvalidation_0-rmse:143643.59717\n",
      "[75]\tvalidation_0-rmse:143931.31118\n",
      "[76]\tvalidation_0-rmse:143912.69344\n",
      "[77]\tvalidation_0-rmse:144133.52968\n",
      "[78]\tvalidation_0-rmse:144298.68472\n",
      "[79]\tvalidation_0-rmse:144456.61814\n",
      "[80]\tvalidation_0-rmse:144625.40537\n",
      "[81]\tvalidation_0-rmse:144842.77231\n",
      "[82]\tvalidation_0-rmse:145170.30809\n",
      "[83]\tvalidation_0-rmse:145379.71215\n",
      "[84]\tvalidation_0-rmse:145564.32568\n",
      "[85]\tvalidation_0-rmse:145844.31770\n",
      "[86]\tvalidation_0-rmse:146045.62451\n",
      "[87]\tvalidation_0-rmse:146270.51533\n",
      "[88]\tvalidation_0-rmse:146454.63618\n",
      "[89]\tvalidation_0-rmse:146672.97649\n",
      "[90]\tvalidation_0-rmse:146913.94089\n",
      "[91]\tvalidation_0-rmse:147099.34983\n",
      "[92]\tvalidation_0-rmse:147265.83212\n",
      "[93]\tvalidation_0-rmse:147471.16025\n",
      "[94]\tvalidation_0-rmse:147649.89126\n",
      "[95]\tvalidation_0-rmse:147862.55074\n",
      "[96]\tvalidation_0-rmse:148067.40710\n",
      "[97]\tvalidation_0-rmse:148330.04188\n",
      "[98]\tvalidation_0-rmse:148505.14307\n",
      "[99]\tvalidation_0-rmse:148727.77133\n",
      "Mejor iteración: 49\n"
     ]
    }
   ],
   "execution_count": 9
  },
  {
   "metadata": {
    "ExecuteTime": {
     "end_time": "2024-12-04T15:58:31.453542Z",
     "start_time": "2024-12-04T15:58:31.409024Z"
    }
   },
   "cell_type": "code",
   "source": [
    "# Evaluación\n",
    "y_pred = model.predict(X_test)\n",
    "mae = mean_absolute_error(y_test, y_pred)\n",
    "r2 = r2_score(y_test, y_pred)\n",
    "\n",
    "print(f\"MAE: {mae}\")\n",
    "print(f\"R2: {r2}\")"
   ],
   "id": "b4e93180ea02058b",
   "outputs": [
    {
     "name": "stdout",
     "output_type": "stream",
     "text": [
      "MAE: 33206.485059516\n",
      "R2: 0.5352905988693237\n"
     ]
    }
   ],
   "execution_count": 10
  },
  {
   "metadata": {},
   "cell_type": "markdown",
   "source": "## Importancia de las variables\n",
   "id": "10b869f75d6f70ff"
  },
  {
   "metadata": {
    "ExecuteTime": {
     "end_time": "2024-12-04T15:58:31.913656Z",
     "start_time": "2024-12-04T15:58:31.563548Z"
    }
   },
   "cell_type": "code",
   "source": [
    "# Importancia de las variables (Top 10)\n",
    "xgb.plot_importance(model, max_num_features=10)\n",
    "plt.show()"
   ],
   "id": "894c01bf5241bc71",
   "outputs": [
    {
     "data": {
      "text/plain": [
       "<Figure size 640x480 with 1 Axes>"
      ],
      "image/png": "[encoded data removed]"
     },
     "metadata": {},
     "output_type": "display_data"
    }
   ],
   "execution_count": 11
  },
  {
   "metadata": {
    "ExecuteTime": {
     "end_time": "2024-12-04T15:58:32.288036Z",
     "start_time": "2024-12-04T15:58:32.001078Z"
    }
   },
   "cell_type": "code",
   "source": [
    "# Scatter plot de likes vs predicción Add line\n",
    "plt.scatter(y_test, y_pred)\n",
    "plt.plot([0, 500000], [0, 500000], color='red')\n",
    "plt.xlabel('likes')\n",
    "plt.ylabel('predicción')\n",
    "plt.show()"
   ],
   "id": "3169e48e085ba2ed",
   "outputs": [
    {
     "data": {
      "text/plain": [
       "<Figure size 640x480 with 1 Axes>"
      ],
      "image/png": "[encoded data removed]"
     },
     "metadata": {},
     "output_type": "display_data"
    }
   ],
   "execution_count": 12
  },
  {
   "metadata": {},
   "cell_type": "markdown",
   "source": "Evaluación de métricas quitando atípicos.",
   "id": "4272154f4f97d7f6"
  },
  {
   "metadata": {
    "ExecuteTime": {
     "end_time": "2024-12-04T15:58:32.400779Z",
     "start_time": "2024-12-04T15:58:32.385149Z"
    }
   },
   "cell_type": "code",
   "source": [
    "# Quitar atípicos\n",
    "outliers = (y_test - y_pred).abs() > 100000\n",
    "y_test_no_outliers = y_test[~outliers]\n",
    "y_pred_no_outliers = y_pred[~outliers]\n",
    "\n",
    "mae_no_outliers = mean_absolute_error(y_test_no_outliers, y_pred_no_outliers)\n",
    "r2_no_outliers = r2_score(y_test_no_outliers, y_pred_no_outliers)\n",
    "\n",
    "print(f\"MAE sin atípicos: {mae_no_outliers}\")\n",
    "print(f\"R2 sin atípicos: {r2_no_outliers}\")"
   ],
   "id": "b0055c35fff957b5",
   "outputs": [
    {
     "name": "stdout",
     "output_type": "stream",
     "text": [
      "MAE sin atípicos: 12864.540584500419\n",
      "R2 sin atípicos: 0.8641403913497925\n"
     ]
    }
   ],
   "execution_count": 13
  },
  {
   "metadata": {
    "ExecuteTime": {
     "end_time": "2024-12-04T15:58:32.638267Z",
     "start_time": "2024-12-04T15:58:32.471233Z"
    }
   },
   "cell_type": "code",
   "source": [
    "# Scatter plot de likes vs predicción sin atípicos\n",
    "plt.scatter(y_test_no_outliers, y_pred_no_outliers)\n",
    "plt.plot([0, 500000], [0, 500000], color='red')\n",
    "plt.show()\n"
   ],
   "id": "ab148a796c7d2b70",
   "outputs": [
    {
     "data": {
      "text/plain": [
       "<Figure size 640x480 with 1 Axes>"
      ],
      "image/png": "[encoded data removed]"
     },
     "metadata": {},
     "output_type": "display_data"
    }
   ],
   "execution_count": 14
  },
  {
   "metadata": {},
   "cell_type": "markdown",
   "source": "Guardamos el modelo para su uso posterior.",
   "id": "820084b89c5f47af"
  },
  {
   "metadata": {
    "ExecuteTime": {
     "end_time": "2024-12-04T15:59:21.710659Z",
     "start_time": "2024-12-04T15:59:21.648154Z"
    }
   },
   "cell_type": "code",
   "source": "model.save_model('models/model_likes_xgboost.json')",
   "id": "eee78ce992afd387",
   "outputs": [],
   "execution_count": 15
  },
  {
   "metadata": {
    "ExecuteTime": {
     "end_time": "2024-12-04T15:59:48.496762Z",
     "start_time": "2024-12-04T15:59:44.567686Z"
    }
   },
   "cell_type": "code",
   "source": [
    "# Ejecutamos un pip freeze para guardar los paquetes utilizados\n",
    "!pip freeze > requirements.txt"
   ],
   "id": "4e60e41f1d47026f",
   "outputs": [],
   "execution_count": 16
  }
 ],
 "metadata": {
  "kernelspec": {
   "display_name": "Python 3",
   "language": "python",
   "name": "python3"
  },
  "language_info": {
   "codemirror_mode": {
    "name": "ipython",
    "version": 2
   },
   "file_extension": ".py",
   "mimetype": "text/x-python",
   "name": "python",
   "nbconvert_exporter": "python",
   "pygments_lexer": "ipython2",
   "version": "2.7.6"
  }
 },
 "nbformat": 4,
 "nbformat_minor": 5
}

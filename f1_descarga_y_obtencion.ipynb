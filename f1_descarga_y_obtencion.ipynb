{
 "cells": [
  {
   "metadata": {},
   "cell_type": "markdown",
   "source": "# Descarga y guardado de datos",
   "id": "72718968a6fa724d"
  },
  {
   "metadata": {},
   "cell_type": "markdown",
   "source": "A continuación se descargan los datos de la competencia de Kaggle [Trending YouTube Video Statistics](https://www.kaggle.com/datasnaek/youtube-new) y se guardan en la carpeta `youtube-new`.",
   "id": "26793288b25d6853"
  },
  {
   "metadata": {
    "ExecuteTime": {
     "end_time": "2024-12-03T01:08:46.461787Z",
     "start_time": "2024-12-03T01:08:38.307285Z"
    }
   },
   "cell_type": "code",
   "source": [
    "%%cmd\n",
    "kaggle datasets download datasnaek/youtube-new"
   ],
   "id": "bb2118b12b3b8532",
   "outputs": [
    {
     "name": "stdout",
     "output_type": "stream",
     "text": [
      "Microsoft Windows [Version 10.0.19045.5131]\r\n",
      "(c) Microsoft Corporation. All rights reserved.\r\n",
      "\r\n",
      "C:\\Users\\Predator\\Downloads\\git\\kaggle_youtube_analysis>kaggle datasets download datasnaek/youtube-new\n",
      "Downloading youtube-new.zip to C:\\Users\\Predator\\Downloads\\git\\kaggle_youtube_analysis\r\n"
     ]
    },
    {
     "name": "stderr",
     "output_type": "stream",
     "text": [
      "100%|██████████| 201M/201M [00:06<00:00, 30.6MB/s] \r\n"
     ]
    },
    {
     "name": "stdout",
     "output_type": "stream",
     "text": [
      "\r\n",
      "\r\n",
      "C:\\Users\\Predator\\Downloads\\git\\kaggle_youtube_analysis>"
     ]
    }
   ],
   "execution_count": 1
  },
  {
   "metadata": {
    "ExecuteTime": {
     "end_time": "2024-12-03T01:08:55.127812Z",
     "start_time": "2024-12-03T01:08:46.628728Z"
    }
   },
   "cell_type": "code",
   "source": [
    "%%cmd\n",
    "powershell -command \"Expand-Archive -Path youtube-new.zip -DestinationPath youtube-new\""
   ],
   "id": "f0ea41e44c9c02a8",
   "outputs": [
    {
     "name": "stdout",
     "output_type": "stream",
     "text": [
      "Microsoft Windows [Version 10.0.19045.5131]\r\n",
      "(c) Microsoft Corporation. All rights reserved.\r\n",
      "\r\n",
      "C:\\Users\\Predator\\Downloads\\git\\kaggle_youtube_analysis>powershell -command \"Expand-Archive -Path youtube-new.zip -DestinationPath youtube-new\"\n",
      "\r\n",
      "C:\\Users\\Predator\\Downloads\\git\\kaggle_youtube_analysis>"
     ]
    }
   ],
   "execution_count": 2
  },
  {
   "metadata": {
    "ExecuteTime": {
     "end_time": "2024-12-03T01:09:03.748491Z",
     "start_time": "2024-12-03T01:09:03.742495Z"
    }
   },
   "cell_type": "code",
   "source": "",
   "id": "8571d9c514a653fa",
   "outputs": [],
   "execution_count": null
  }
 ],
 "metadata": {
  "kernelspec": {
   "display_name": "Python 3",
   "language": "python",
   "name": "python3"
  },
  "language_info": {
   "codemirror_mode": {
    "name": "ipython",
    "version": 2
   },
   "file_extension": ".py",
   "mimetype": "text/x-python",
   "name": "python",
   "nbconvert_exporter": "python",
   "pygments_lexer": "ipython2",
   "version": "2.7.6"
  }
 },
 "nbformat": 4,
 "nbformat_minor": 5
}
